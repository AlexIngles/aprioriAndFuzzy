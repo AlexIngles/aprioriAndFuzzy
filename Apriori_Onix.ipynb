{
 "cells": [
  {
   "cell_type": "code",
   "execution_count": null,
   "id": "5cadc94e",
   "metadata": {},
   "outputs": [],
   "source": [
    "pip install XlsxWriter\n",
    "import pandas as pd\n",
    "from mlxtend.preprocessing import TransactionEncoder\n",
    "from mlxtend.frequent_patterns import apriori, association_rules"
   ]
  },
  {
   "cell_type": "code",
   "execution_count": null,
   "id": "3d22424c",
   "metadata": {},
   "outputs": [],
   "source": [
    "# Lê o arquivo CSV\n",
    "df = pd.read_csv('C:/Teste_Python/Onix_Apriori.csv', sep = ';')"
   ]
  },
  {
   "cell_type": "code",
   "execution_count": null,
   "id": "932b45af",
   "metadata": {},
   "outputs": [],
   "source": [
    "# Normaliza os caracteres da coluna \"Descricao_Peca_Padrao\"\n",
    "df['Descricao_Peca_Padrao'] = df['Descricao_Peca_Padrao'].str.lower().str.normalize('NFKD').str.encode('ascii', errors='ignore').str.decode('utf-8')"
   ]
  },
  {
   "cell_type": "code",
   "execution_count": null,
   "id": "fe52b388",
   "metadata": {},
   "outputs": [],
   "source": [
    "# Regras para LATERAL DIANTEIRA ESQUERDA\n",
    "# selecao_lde = (df['Regiao_Afetada'] == 'LATERAL DIANTEIRA ESQUERDA')\n",
    "# transacoes  = df.loc[selecao_lde, ['Id_Orcamento', 'Descricao_Peca_Padrao']].groupby(['Id_Orcamento'])['Descricao_Peca_Padrao'].apply(list).values.tolist()"
   ]
  },
  {
   "cell_type": "code",
   "execution_count": null,
   "id": "99b958d6",
   "metadata": {},
   "outputs": [],
   "source": [
    "# Regras para LATERAL DIANTEIRA DIREITA\n",
    "# selecao_ldd = (df['Regiao_Afetada'] == 'LATERAL DIANTEIRA DIREITA')\n",
    "# transacoes  = df.loc[selecao_ldd, ['Id_Orcamento', 'Descricao_Peca_Padrao']].groupby(['Id_Orcamento'])['Descricao_Peca_Padrao'].apply(list).values.tolist()"
   ]
  },
  {
   "cell_type": "code",
   "execution_count": null,
   "id": "a3a3063f",
   "metadata": {},
   "outputs": [],
   "source": [
    "# Regras para DIANTEIRA\n",
    "# selecao_diant = (df['Regiao_Afetada'] == 'DIANTEIRA')\n",
    "# transacoes  = df.loc[selecao_diant, ['Id_Orcamento', 'Descricao_Peca_Padrao']].groupby(['Id_Orcamento'])['Descricao_Peca_Padrao'].apply(list).values.tolist()"
   ]
  },
  {
   "cell_type": "code",
   "execution_count": null,
   "id": "dd21cf71",
   "metadata": {},
   "outputs": [],
   "source": [
    "# Regras para LATERAL DIANTEIRA ESQUERDA e LATERAL DIANTEIRA DIREITA\n",
    "# selecao_lde_ldd = (df['Regiao_Afetada'] == 'LATERAL DIANTEIRA ESQUERDA') | (df['Regiao_Afetada'] == 'LATERAL DIANTEIRA DIREITA')\n",
    "# transacoes  = df.loc[selecao_lde_ldd, ['Id_Orcamento', 'Descricao_Peca_Padrao']].groupby(['Id_Orcamento'])['Descricao_Peca_Padrao'].apply(list).values.tolist()"
   ]
  },
  {
   "cell_type": "code",
   "execution_count": null,
   "id": "15e6d813",
   "metadata": {},
   "outputs": [],
   "source": [
    "# Regras para LATERAL DIANTEIRA ESQUERDA e DIANTEIRA\n",
    "# selecao_lde_diant = (df['Regiao_Afetada'] == 'LATERAL DIANTEIRA ESQUERDA') | (df['Regiao_Afetada'] == 'DIANTEIRA')\n",
    "# transacoes  = df.loc[selecao_lde_diant, ['Id_Orcamento', 'Descricao_Peca_Padrao']].groupby(['Id_Orcamento'])['Descricao_Peca_Padrao'].apply(list).values.tolist()"
   ]
  },
  {
   "cell_type": "code",
   "execution_count": null,
   "id": "51c6c032",
   "metadata": {},
   "outputs": [],
   "source": [
    "# Regras para LATERAL DIANTEIRA DIREITA e DIANTEIRA\n",
    "# selecao_ldd_diant = (df['Regiao_Afetada'] == 'LATERAL DIANTEIRA DIREITA') | (df['Regiao_Afetada'] == 'DIANTEIRA')\n",
    "# transacoes  = df.loc[selecao_ldd_diant, ['Id_Orcamento', 'Descricao_Peca_Padrao']].groupby(['Id_Orcamento'])['Descricao_Peca_Padrao'].apply(list).values.tolist()"
   ]
  },
  {
   "cell_type": "code",
   "execution_count": null,
   "id": "e96425ed",
   "metadata": {},
   "outputs": [],
   "source": [
    "# Regras para LATERAL DIANTEIRA ESQUERDA, LATERAL DIANTEIRA DIREITA e DIANTEIRA\n",
    "# selecao_lde_ldd_diant = (df['Regiao_Afetada'] == 'LATERAL DIANTEIRA ESQUERDA') | (df['Regiao_Afetada'] == 'LATERAL DIANTEIRA DIREITA') | (df['Regiao_Afetada'] == 'DIANTEIRA')\n",
    "# transacoes  = df.loc[selecao_lde_ldd_diant, ['Id_Orcamento', 'Descricao_Peca_Padrao']].groupby(['Id_Orcamento'])['Descricao_Peca_Padrao'].apply(list).values.tolist()"
   ]
  },
  {
   "cell_type": "code",
   "execution_count": null,
   "id": "0f1f5f72",
   "metadata": {},
   "outputs": [],
   "source": [
    "# Cria o encoder e transforma as transações em binário\n",
    "encoder = TransactionEncoder()\n",
    "transacoes_binarias = encoder.fit_transform(transacoes)"
   ]
  },
  {
   "cell_type": "code",
   "execution_count": null,
   "id": "782a9fbd",
   "metadata": {},
   "outputs": [],
   "source": [
    "# Cria o dataframe das regras de associação\n",
    "df_regras = apriori(pd.DataFrame(transacoes_binarias, columns=encoder.columns_), min_support=0.06, use_colnames=True)"
   ]
  },
  {
   "cell_type": "code",
   "execution_count": null,
   "id": "68a94d2f",
   "metadata": {},
   "outputs": [],
   "source": [
    "# Filtra as regras de acordo com o lift mínimo\n",
    "regras_filtradas = association_rules(df_regras, metric=\"lift\", min_threshold=1)"
   ]
  },
  {
   "cell_type": "code",
   "execution_count": null,
   "id": "ade2ff28",
   "metadata": {},
   "outputs": [],
   "source": [
    "# Define os consequentes desejados\n",
    "itens_desejados = [\n",
    "    'caixa roda dianteira esq',\n",
    "    'caixa roda dianteira dir',\n",
    "    'longarina parcial dianteira esquerda',\n",
    "    'longarina parcial dianteira direita'\n",
    "]"
   ]
  },
  {
   "cell_type": "code",
   "execution_count": null,
   "id": "dfaa3d75",
   "metadata": {},
   "outputs": [],
   "source": [
    "regras_selecionadas = regras_filtradas[\n",
    "    regras_filtradas['consequents'].apply(lambda consequents: any(x in consequents for x in itens_desejados))\n",
    "]"
   ]
  },
  {
   "cell_type": "code",
   "execution_count": null,
   "id": "4580c976",
   "metadata": {},
   "outputs": [],
   "source": [
    "# Categorização das regras\n",
    "categoria = []\n",
    "for index, row in regras_selecionadas.iterrows():\n",
    "    antecedentes = list(row['antecedents'])\n",
    "    consequentes = list(row['consequents'])\n",
    "    num_itens_desejados = sum(item in antecedentes or item in consequentes for item in itens_desejados)\n",
    "    if num_itens_desejados == 1:\n",
    "        categoria.append(\"Pequena Monta\")\n",
    "    else:\n",
    "        categoria.append(\"Media Monta\")"
   ]
  },
  {
   "cell_type": "code",
   "execution_count": null,
   "id": "0825aa5d",
   "metadata": {},
   "outputs": [],
   "source": [
    "# Adiciona a coluna de categoria\n",
    "regras_selecionadas = regras_selecionadas.copy()\n",
    "regras_selecionadas['Categoria'] = categoria"
   ]
  },
  {
   "cell_type": "code",
   "execution_count": null,
   "id": "ebfc01da",
   "metadata": {
    "scrolled": true
   },
   "outputs": [],
   "source": [
    "# Exibe as regras de associação selecionadas\n",
    "num_total_regras = len(regras_selecionadas)\n",
    "print(\"Regras de Associação com Pelo Menos um dos Itens Desejados nos Antecedentes e Consequentes:\")\n",
    "for index, row in regras_selecionadas.iterrows():\n",
    "    antecedentes = list(row['antecedents'])\n",
    "    consequentes = list(row['consequents'])\n",
    "    print(\"Se\", antecedentes, \"então\", consequentes, \"(suporte:\", round(row['support'], 3),\n",
    "          \", confiança:\", round(row['confidence'], 3), \", lift:\", round(row['lift'], 3),\n",
    "          \", categoria:\", row['Categoria'], \")\")\n",
    "\n",
    "print(\"Total de\", num_total_regras,\n",
    "      \"regras de associação encontradas com pelo menos um dos itens desejados nos antecedentes e consequentes.\")"
   ]
  },
  {
   "cell_type": "code",
   "execution_count": null,
   "id": "41d3c06d",
   "metadata": {},
   "outputs": [],
   "source": [
    "# Salva as regras de associação em um arquivo XLSX\n",
    "regras_selecionadas.to_excel('LatDir_LatEsq_Diant.xlsx', index=False)"
   ]
  }
 ],
 "metadata": {
  "kernelspec": {
   "display_name": "Python 3 (ipykernel)",
   "language": "python",
   "name": "python3"
  },
  "language_info": {
   "codemirror_mode": {
    "name": "ipython",
    "version": 3
   },
   "file_extension": ".py",
   "mimetype": "text/x-python",
   "name": "python",
   "nbconvert_exporter": "python",
   "pygments_lexer": "ipython3",
   "version": "3.9.13"
  }
 },
 "nbformat": 4,
 "nbformat_minor": 5
}
