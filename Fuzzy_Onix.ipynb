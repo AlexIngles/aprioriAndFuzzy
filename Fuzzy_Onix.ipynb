{
 "cells": [
  {
   "cell_type": "code",
   "execution_count": null,
   "id": "54feb132",
   "metadata": {},
   "outputs": [],
   "source": [
    "pip install scikit-fuzzy"
   ]
  },
  {
   "cell_type": "code",
   "execution_count": null,
   "id": "debfb32b",
   "metadata": {},
   "outputs": [],
   "source": [
    "import pandas as pd\n",
    "import skfuzzy as fuzz\n",
    "from sklearn.preprocessing import MinMaxScaler"
   ]
  },
  {
   "cell_type": "code",
   "execution_count": null,
   "id": "1cb4ab41",
   "metadata": {},
   "outputs": [],
   "source": [
    "# Carregar o arquivo XLS com as regras de associação\n",
    "df_regras = pd.read_excel('Lat_Dir_MM.xlsx')"
   ]
  },
  {
   "cell_type": "code",
   "execution_count": null,
   "id": "44712f59",
   "metadata": {},
   "outputs": [],
   "source": [
    "# Definir as colunas relevantes para a análise fuzzy\n",
    "colunas = ['confidence', 'support']"
   ]
  },
  {
   "cell_type": "code",
   "execution_count": null,
   "id": "a42c209a",
   "metadata": {},
   "outputs": [],
   "source": [
    "# Normalizar os valores das colunas entre 0 e 1\n",
    "scaler = MinMaxScaler()\n",
    "df_regras[colunas] = scaler.fit_transform(df_regras[colunas])"
   ]
  },
  {
   "cell_type": "code",
   "execution_count": null,
   "id": "8df852ef",
   "metadata": {},
   "outputs": [],
   "source": [
    "# Definir os pesos para as colunas relevantes\n",
    "pesos = [0.7, 0.3]  # Exemplo de pesos"
   ]
  },
  {
   "cell_type": "code",
   "execution_count": null,
   "id": "3856ab87",
   "metadata": {},
   "outputs": [],
   "source": [
    "# Calcular a pontuação geral para cada regra\n",
    "df_regras['pontuacao'] = df_regras[colunas].dot(pesos)"
   ]
  },
  {
   "cell_type": "code",
   "execution_count": null,
   "id": "1843d288",
   "metadata": {},
   "outputs": [],
   "source": [
    "# Classificar as regras com base na pontuação geral em ordem decrescente\n",
    "df_regras = df_regras.sort_values('pontuacao', ascending=False)"
   ]
  },
  {
   "cell_type": "code",
   "execution_count": null,
   "id": "3f526227",
   "metadata": {},
   "outputs": [],
   "source": [
    "# Selecionar a melhor regra (primeira linha após a classificação)\n",
    "melhor_regra = df_regras.iloc[0]"
   ]
  },
  {
   "cell_type": "code",
   "execution_count": null,
   "id": "c4ed5935",
   "metadata": {},
   "outputs": [],
   "source": [
    "# Exibir a melhor regra\n",
    "print(\"Melhor Regra:\")\n",
    "print(\"Antecedentes:\", melhor_regra['antecedents'])\n",
    "print(\"Consequentes:\", melhor_regra['consequents'])\n",
    "print(\"Antecedent Support:\", melhor_regra['antecedent support'])\n",
    "print(\"Consequent Support:\", melhor_regra['consequent support'])\n",
    "print(\"Support:\", melhor_regra['support'])\n",
    "print(\"Confidence:\", melhor_regra['confidence'])\n",
    "print(\"Lift:\", melhor_regra['lift'])\n",
    "print(\"Leverage:\", melhor_regra['leverage'])\n",
    "print(\"Conviction:\", melhor_regra['conviction'])\n",
    "print(\"Pontuação:\", melhor_regra['pontuacao'])"
   ]
  }
 ],
 "metadata": {
  "kernelspec": {
   "display_name": "Python 3 (ipykernel)",
   "language": "python",
   "name": "python3"
  },
  "language_info": {
   "codemirror_mode": {
    "name": "ipython",
    "version": 3
   },
   "file_extension": ".py",
   "mimetype": "text/x-python",
   "name": "python",
   "nbconvert_exporter": "python",
   "pygments_lexer": "ipython3",
   "version": "3.9.13"
  }
 },
 "nbformat": 4,
 "nbformat_minor": 5
}
